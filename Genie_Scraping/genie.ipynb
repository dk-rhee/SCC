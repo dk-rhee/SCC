{
 "cells": [
  {
   "cell_type": "code",
   "execution_count": 6,
   "metadata": {},
   "outputs": [],
   "source": [
    "from bs4 import BeautifulSoup\n",
    "import requests\n",
    "from pymongo import MongoClient"
   ]
  },
  {
   "cell_type": "code",
   "execution_count": 7,
   "metadata": {},
   "outputs": [
    {
     "name": "stderr",
     "output_type": "stream",
     "text": [
      "/Users/dk/.pyenv/versions/3.7.4/envs/test-374/lib/python3.7/site-packages/ipykernel_launcher.py:5: DeprecationWarning: remove is deprecated. Use delete_one or delete_many instead.\n",
      "  \"\"\"\n"
     ]
    },
    {
     "data": {
      "text/plain": [
       "{'n': 0, 'ok': 1.0}"
      ]
     },
     "execution_count": 7,
     "metadata": {},
     "output_type": "execute_result"
    }
   ],
   "source": [
    "# db 연결 및 db 생성\n",
    "client = MongoClient('localhost', 27017)\n",
    "\n",
    "db = client.genie\n",
    "db.top200.remove()"
   ]
  },
  {
   "cell_type": "code",
   "execution_count": 8,
   "metadata": {},
   "outputs": [],
   "source": [
    "# scraping 설정\n",
    "url = 'https://www.genie.co.kr/chart/top200?ditc=D&rtm=N&ymd=20190908'\n",
    "headers = {'User-Agent' : 'Mozilla/5.0 (Windows NT 10.0; Win64; x64)AppleWebKit/537.36 (KHTML, like Gecko) Chrome/73.0.3683.86 Safari/537.36'}\n",
    "data = requests.get(url,headers=headers)\n",
    "\n",
    "soup = BeautifulSoup(data.text, 'html.parser')"
   ]
  },
  {
   "cell_type": "code",
   "execution_count": 9,
   "metadata": {
    "scrolled": false
   },
   "outputs": [],
   "source": [
    "# 순위, 곡 제목, 가수\n",
    "#body-content > div.newest-list > div > table > tbody > tr:nth-child(1) > td.info > a.title.ellipsis\n",
    "#td.info > a.title = '재생'\n",
    "#body-content > div.newest-list > div > table > tbody > tr:nth-child(1) > td.info > a.artist.ellipsis\n",
    "\n",
    "rank = 1\n",
    "charts = soup.select('#body-content > div.newest-list > div > table > tbody > tr')\n",
    "for chart in charts:\n",
    "    title = chart.select_one('td.info > a.title.ellipsis')\n",
    "    if not title == None:\n",
    "        title = title.text.strip()\n",
    "        artist = chart.select_one('td.info > a.artist.ellipsis').text.strip()\n",
    "        doc = {\n",
    "            'rank': rank,\n",
    "            'artist': artist,\n",
    "            'title': title,\n",
    "        }\n",
    "        \n",
    "        db.top200.insert_one(doc) # insert into genie.top200\n",
    "        rank += 1\n",
    "    else: pass\n"
   ]
  },
  {
   "cell_type": "code",
   "execution_count": 10,
   "metadata": {},
   "outputs": [
    {
     "name": "stdout",
     "output_type": "stream",
     "text": [
      "순위: 1, 가수: 케이시 (Kassy), 제목: 가을밤 떠난 너\n",
      "순위: 2, 가수: 폴킴, 제목: 안녕\n",
      "순위: 3, 가수: 휘인 (Whee In), 제목: 헤어지자 (Prod. by 정키 (Jung Key))\n",
      "순위: 4, 가수: 거미 (Gummy), 제목: 기억해줘요 내 모든 날과 그때를\n",
      "순위: 5, 가수: 마크툽 (Maktub), 제목: 오늘도 빛나는 너에게 (To You My Light) (Feat.이라온)\n",
      "순위: 6, 가수: HYNN (박혜원), 제목: 시든 꽃에 물을 주듯\n",
      "순위: 7, 가수: 태연 (TAEYEON), 제목: 그대라는 시\n",
      "순위: 8, 가수: 닐로 (Nilo), 제목: 벗\n",
      "순위: 9, 가수: 펀치 (Punch), 제목: Done For Me\n",
      "순위: 10, 가수: 송하예, 제목: 니 소식\n",
      "순위: 11, 가수: 황인욱, 제목: 포장마차\n",
      "순위: 12, 가수: 장범준, 제목: 흔들리는 꽃들 속에서 네 샴푸향이 느껴진거야\n",
      "순위: 13, 가수: 장혜진 & 윤민수(바이브), 제목: 술이 문제야\n",
      "순위: 14, 가수: Anne Marie, 제목: 2002\n",
      "순위: 15, 가수: 선미, 제목: 날라리 (LALALAY)\n",
      "순위: 16, 가수: 벤, 제목: 내 목소리 들리니\n",
      "순위: 17, 가수: Crush, 제목: 나빠(NAPPA)\n",
      "순위: 18, 가수: 임재현, 제목: 사랑에 연습이 있었다면 (Prod. by 2soo)\n",
      "순위: 19, 가수: 벤, 제목: 헤어져줘서 고마워\n",
      "순위: 20, 가수: Red Velvet (레드벨벳), 제목: 음파음파 (Umpah Umpah)\n",
      "순위: 21, 가수: 10cm, 제목: 나의 어깨에 기대어요\n",
      "순위: 22, 가수: ITZY (있지), 제목: ICY\n",
      "순위: 23, 가수: Billie Eilish, 제목: bad guy\n",
      "순위: 24, 가수: 먼데이 키즈 (Monday Kiz), 제목: 사랑이 식었다고 말해도 돼\n",
      "순위: 25, 가수: 청하, 제목: 그 끝에 그대\n",
      "순위: 26, 가수: Camila Cabello & Shawn Mendes, 제목: Senorita\n",
      "순위: 27, 가수: 폴킴, 제목: 모든 날, 모든 순간 (Every day, Every Moment)\n",
      "순위: 28, 가수: 송하예, 제목: Say Goodbye\n",
      "순위: 29, 가수: 방탄소년단, 제목: 작은 것들을 위한 시 (Boy With Luv) (Feat. Halsey)\n",
      "순위: 30, 가수: 헤이즈 (Heize), 제목: 내 맘을 볼 수 있나요\n",
      "순위: 31, 가수: V.O.S, 제목: 다시 만날까 봐\n",
      "순위: 32, 가수: Naomi Scott, 제목: Speechless (Full)\n",
      "순위: 33, 가수: 김나영, 제목: 솔직하게 말해서 나\n",
      "순위: 34, 가수: 전상근, 제목: 사랑이란 멜로는 없어\n",
      "순위: 35, 가수: 폴킴, 제목: 너를 만나\n",
      "순위: 36, 가수: 다비치, 제목: 너에게 못했던 내 마지막 말은\n",
      "순위: 37, 가수: 먼데이 키즈 (Monday Kiz) & 펀치 (Punch), 제목: Another Day\n",
      "순위: 38, 가수: 청하, 제목: Snapping\n",
      "순위: 39, 가수: 케이시 (Kassy), 제목: 그때가 좋았어\n",
      "순위: 40, 가수: 태연 (TAEYEON), 제목: 사계 (Four Seasons)\n",
      "순위: 41, 가수: 스윙스 & 키드밀리 & 매드클라운, 제목: 담아 (Feat. 염따 & pH-1) (Prod. by BOYCOLD)\n",
      "순위: 42, 가수: 멜로망스 (MeloMance), 제목: 인사\n",
      "순위: 43, 가수: 창모 & Hash Swan & ASH ISLAND & 김효은, 제목: BAND\n",
      "순위: 44, 가수: 장범준, 제목: 노래방에서\n",
      "순위: 45, 가수: 윤하 (YOUNHA), 제목: 비가 내리는 날에는\n",
      "순위: 46, 가수: 청하 & 마미손, 제목: 달려\n",
      "순위: 47, 가수: 김나영, 제목: 조금 더 외로워지겠지\n",
      "순위: 48, 가수: Lauv, 제목: Paris In The Rain\n",
      "순위: 49, 가수: 이우, 제목: 내 안부\n",
      "순위: 50, 가수: Alan Walker, 제목: All Falls Down (Feat. Noah Cyrus & Digital Farm Animals)\n"
     ]
    }
   ],
   "source": [
    "top200 = list(db.top200.find())\n",
    "\n",
    "for top in top200:\n",
    "    rank = top['rank']\n",
    "    artist = top['artist']\n",
    "    title = top['title']\n",
    "    print('순위: {}, 가수: {}, 제목: {}'.format(rank, artist, title))"
   ]
  },
  {
   "cell_type": "code",
   "execution_count": null,
   "metadata": {},
   "outputs": [],
   "source": []
  }
 ],
 "metadata": {
  "kernelspec": {
   "display_name": "Python 3",
   "language": "python",
   "name": "python3"
  },
  "language_info": {
   "codemirror_mode": {
    "name": "ipython",
    "version": 3
   },
   "file_extension": ".py",
   "mimetype": "text/x-python",
   "name": "python",
   "nbconvert_exporter": "python",
   "pygments_lexer": "ipython3",
   "version": "3.7.4"
  }
 },
 "nbformat": 4,
 "nbformat_minor": 2
}
